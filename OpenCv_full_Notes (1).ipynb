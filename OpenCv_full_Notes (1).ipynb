{
 "cells": [
  {
   "cell_type": "markdown",
   "id": "76c623f2",
   "metadata": {},
   "source": [
    "# OpenCv\n",
    "OpenCv (open source computer vision library) is an open source computer visison and machine learning software librray.\n",
    "The library has more than 2500 optimized algorithms,\n",
    "Opencv is written natively in c++\n",
    "initial release June 2000\n",
    "\n",
    "Install anaconda navigator \n",
    "Run as administrator\n",
    "go to environments \n",
    "create environment and install necessary library "
   ]
  },
  {
   "cell_type": "code",
   "execution_count": null,
   "id": "396192d8",
   "metadata": {},
   "outputs": [],
   "source": []
  },
  {
   "cell_type": "code",
   "execution_count": 2,
   "id": "daddb38e",
   "metadata": {},
   "outputs": [
    {
     "name": "stdout",
     "output_type": "stream",
     "text": [
      "4.9.0\n"
     ]
    }
   ],
   "source": [
    "# pip install opecv-python\n",
    "import cv2\n",
    "print(cv2.__version__)"
   ]
  },
  {
   "cell_type": "code",
   "execution_count": 3,
   "id": "c6cd3946",
   "metadata": {},
   "outputs": [
    {
     "name": "stdout",
     "output_type": "stream",
     "text": [
      "1.24.4\n"
     ]
    }
   ],
   "source": [
    "import numpy\n",
    "print(numpy.__version__)"
   ]
  },
  {
   "cell_type": "code",
   "execution_count": 4,
   "id": "7d60a67f",
   "metadata": {},
   "outputs": [
    {
     "name": "stdout",
     "output_type": "stream",
     "text": [
      "1.4.4\n"
     ]
    }
   ],
   "source": [
    "import pandas\n",
    "print(pandas.__version__)"
   ]
  },
  {
   "cell_type": "code",
   "execution_count": 5,
   "id": "a9e977c1",
   "metadata": {},
   "outputs": [
    {
     "name": "stdout",
     "output_type": "stream",
     "text": [
      "3.5.2\n"
     ]
    }
   ],
   "source": [
    "import matplotlib\n",
    "print(matplotlib.__version__)"
   ]
  },
  {
   "cell_type": "markdown",
   "id": "66260907",
   "metadata": {},
   "source": [
    "1. How to show image? \n",
    "2. Resize image\n",
    "3. slide show 4 image in one window\n",
    "4. Multiple images in one window"
   ]
  },
  {
   "cell_type": "code",
   "execution_count": 8,
   "id": "dddb8da9",
   "metadata": {},
   "outputs": [],
   "source": [
    "import cv2\n",
    "path = r\"\"\"C:\\Users\\aksha_0iafvb0\\Downloads\\wallpaper.jpg\"\"\"\n",
    "\n",
    "img = cv2.imread(path)       # iamread() used for reading image\n",
    "cv2.imshow('Image', img)     # iamshow() used for showing image\n",
    "cv2.waitKey(0)               # if 1 the window will close in 1 sec if 0 then when we press any button then window will close\n",
    "cv2.destroyAllWindows()"
   ]
  },
  {
   "cell_type": "code",
   "execution_count": 9,
   "id": "ede41532",
   "metadata": {},
   "outputs": [],
   "source": [
    "path = r\"\"\"C:\\Users\\aksha_0iafvb0\\Downloads\\wallpaper.jpg\"\"\"\n",
    "\n",
    "img = cv2.imread(path)   \n",
    "\n",
    "img = cv2.resize(img, (600,400))   # resize() is used for resizing the image\n",
    "cv2.imshow('Image', img)    \n",
    "cv2.waitKey(0)         \n",
    "cv2.destroyAllWindows()"
   ]
  },
  {
   "cell_type": "code",
   "execution_count": 16,
   "id": "493c9de4",
   "metadata": {},
   "outputs": [
    {
     "data": {
      "text/plain": [
       "['IMG_2586.JPG',\n",
       " 'IMG_2587 (1).JPG',\n",
       " 'IMG_2587.JPG',\n",
       " 'IMG_2588 (1).JPG',\n",
       " 'IMG_2588.JPG',\n",
       " 'IMG_2589.JPG',\n",
       " 'IMG_2591.JPG',\n",
       " 'IMG_2592.JPG',\n",
       " 'IMG_2593.JPG',\n",
       " 'IMG_2615.JPG',\n",
       " 'IMG_2616.JPG',\n",
       " 'IMG_2617.JPG',\n",
       " 'IMG_2618.JPG',\n",
       " 'IMG_2619.JPG',\n",
       " 'IMG_2620.JPG',\n",
       " 'IMG_2621.JPG',\n",
       " 'IMG_2622.JPG',\n",
       " 'IMG_2623.JPG',\n",
       " 'IMG_2624.JPG',\n",
       " 'IMG_2625.JPG',\n",
       " 'IMG_2626.JPG',\n",
       " 'IMG_2627.JPG',\n",
       " 'IMG_2628.JPG',\n",
       " 'IMG_2629.JPG',\n",
       " 'IMG_2630.JPG',\n",
       " 'IMG_2631.JPG',\n",
       " 'IMG_2632.JPG',\n",
       " 'IMG_2650.JPG',\n",
       " 'IMG_2651.JPG',\n",
       " 'IMG_2652.JPG',\n",
       " 'IMG_2653.JPG',\n",
       " 'IMG_2654.JPG']"
      ]
     },
     "execution_count": 16,
     "metadata": {},
     "output_type": "execute_result"
    }
   ],
   "source": [
    "import os\n",
    "img_names = os.listdir(r\"C:\\Users\\aksha_0iafvb0\\OneDrive\\Desktop\\company resume\")\n",
    "img_names"
   ]
  },
  {
   "cell_type": "code",
   "execution_count": 24,
   "id": "31797cd2",
   "metadata": {},
   "outputs": [],
   "source": [
    "import cv2\n",
    "import os\n",
    "\n",
    "path = r\"C:\\Users\\aksha_0iafvb0\\OneDrive\\Desktop\\company resume\"\n",
    "\n",
    "# Get list of image files in the directory\n",
    "for img_name in os.listdir(path):\n",
    "    img_path_full = os.path.join(path, img_name)\n",
    "\n",
    "    # Read and process only if it's a valid image\n",
    "    img = cv2.imread(img_path_full)\n",
    "    if img is not None:\n",
    "        img = cv2.resize(img, (1000, 720))\n",
    "        cv2.imshow('image', img)\n",
    "        cv2.waitKey(500)  # Wait for a key press to show the next image\n",
    "\n",
    "cv2.destroyAllWindows()\n"
   ]
  },
  {
   "cell_type": "code",
   "execution_count": 28,
   "id": "46717a2d",
   "metadata": {},
   "outputs": [],
   "source": [
    "import numpy as np\n",
    "\n",
    "for img_name in img_names:\n",
    "    img_path_full = os.path.join(path,img_name)\n",
    "    img = cv2.imread(img_path_full)\n",
    "    img = cv2.resize(img,(300,200))\n",
    "    img_2 = np.hstack((img,img))     #if we want to add more images vertically ((img,img,img)) continuously give ,img\n",
    "    img_4 = np.vstack((img_2,img_2))  # if we want vertically more imgae ,img_2  addd \n",
    "    cv2.imshow('4 Image', img_4)\n",
    "    cv2.waitKey(500)\n",
    "    \n",
    "cv2.destroyAllWindows()"
   ]
  },
  {
   "cell_type": "markdown",
   "id": "d166b176",
   "metadata": {},
   "source": [
    "# Video/Camera Play\n",
    "1. how to play video\n",
    "2. how to access camera\n",
    "3. howw to play multiple video/camera in one window"
   ]
  },
  {
   "cell_type": "code",
   "execution_count": 29,
   "id": "95978b36",
   "metadata": {},
   "outputs": [],
   "source": [
    "import numpy as np\n",
    "import cv2\n",
    "video_path1 = r\"C:\\Users\\aksha_0iafvb0\\OneDrive\\Desktop\\photos\\IMG_2582.MOV\"\n",
    "video_path2 = r\"C:\\Users\\aksha_0iafvb0\\Downloads\\videoplayback.webm\""
   ]
  },
  {
   "cell_type": "code",
   "execution_count": 37,
   "id": "177a6621",
   "metadata": {},
   "outputs": [],
   "source": [
    "cap = cv2.VideoCapture(video_path1)\n",
    "\n",
    "while cap.isOpened():\n",
    "    ret, frame = cap.read()\n",
    "    if ret:\n",
    "        \n",
    "        image = cv2.resize(frame,(400 ,500))\n",
    "    \n",
    "        cv2.imshow('video player',image)\n",
    "        \n",
    "        if cv2.waitKey(25) & 0xff == ord('q'):\n",
    "            break\n",
    "    else:\n",
    "        break\n",
    "        \n",
    "cap.release()\n",
    "cv2.destroyAllWindows()"
   ]
  },
  {
   "cell_type": "code",
   "execution_count": 38,
   "id": "aa6a52f5",
   "metadata": {},
   "outputs": [],
   "source": [
    "cap = cv2.VideoCapture(0)\n",
    "\n",
    "while cap.isOpened():\n",
    "    ret, frame = cap.read()\n",
    "    if ret:\n",
    "        \n",
    "        image = cv2.resize(frame,(400 ,500))\n",
    "    \n",
    "        cv2.imshow('video player',image)\n",
    "        \n",
    "        if cv2.waitKey(25) & 0xff == ord('q'):\n",
    "            break\n",
    "    else:\n",
    "        break\n",
    "        \n",
    "cap.release()\n",
    "cv2.destroyAllWindows()"
   ]
  },
  {
   "cell_type": "code",
   "execution_count": 42,
   "id": "750583e7",
   "metadata": {},
   "outputs": [],
   "source": [
    "\n",
    "cap = cv2.VideoCapture(0)\n",
    "\n",
    "while cap.isOpened():\n",
    "    ret, frame = cap.read()\n",
    "    if ret:\n",
    "        \n",
    "        image = cv2.resize(frame,(400 ,250))\n",
    "        \n",
    "        frame2 = np.hstack((image, image))\n",
    "        frame3 = np.vstack((frame2, frame2))\n",
    "    \n",
    "        cv2.imshow('video player',frame3)\n",
    "        \n",
    "        if cv2.waitKey(25) & 0xff == ord('q'):\n",
    "            break\n",
    "    else:\n",
    "        break\n",
    "        \n",
    "cap.release()\n",
    "cv2.destroyAllWindows()"
   ]
  },
  {
   "cell_type": "code",
   "execution_count": 55,
   "id": "2ade8825",
   "metadata": {},
   "outputs": [],
   "source": [
    "import cv2\n",
    "import numpy as np\n",
    "import os\n",
    "\n",
    "video_path1 = r\"C:\\Users\\aksha_0iafvb0\\OneDrive\\Desktop\\photos\\IMG_2582.MOV\"\n",
    "video_path2 = r\"C:\\Users\\aksha_0iafvb0\\Downloads\\videoplayback.webm\"\n",
    "\n",
    "cap1 = cv2.VideoCapture(0)  # Webcam\n",
    "cap2 = cv2.VideoCapture(video_path2)  # Video file 1\n",
    "cap3 = cv2.VideoCapture(video_path1)  # Video file 2\n",
    "\n",
    "while cap1.isOpened() and cap2.isOpened() and cap3.isOpened():\n",
    "    ret1, frame1 = cap1.read()\n",
    "    ret2, frame2 = cap2.read()\n",
    "    ret3, frame3 = cap3.read()\n",
    "    \n",
    "    if ret1 and ret2 and ret3:\n",
    "        frame1 = cv2.resize(frame1, (300, 250))\n",
    "        frame2 = cv2.resize(frame2, (300, 250))\n",
    "        frame3 = cv2.resize(frame3, (300, 250))\n",
    "        \n",
    "        combined_top = np.hstack((frame1, frame2))\n",
    "        combined_bottom = np.hstack((frame3, frame3))\n",
    "        final_frame = np.vstack((combined_top, combined_bottom))\n",
    "        \n",
    "        cv2.imshow('Video Player', final_frame)\n",
    "        \n",
    "        if cv2.waitKey(25) & 0xFF == ord('q'):\n",
    "            break\n",
    "    else:\n",
    "        break\n",
    "\n",
    "cap1.release()\n",
    "cap2.release()\n",
    "cap3.release()\n",
    "cv2.destroyAllWindows()\n"
   ]
  },
  {
   "cell_type": "markdown",
   "id": "d75cb7e8",
   "metadata": {},
   "source": [
    "# cv2.imread()\n",
    "# Read RGB, Grey, Transparent Image\n",
    "\n",
    "\n",
    "Syntax: cv2.imread(path,flag)\n",
    "\n",
    "Parameters:\n",
    "\n",
    "path: Image path\n",
    "\n",
    "## flag: default value is cv2.IMREAD_COLOR\n",
    "\n",
    "CV2.IMREAD_COLOR or 1:\n",
    "\n",
    "reads the image with RGB colors\n",
    "\n",
    "cv2.IMREAD_GRAYSCALE or 0:\n",
    "\n",
    "reads the image with gray colors\n",
    "\n",
    "cv2.IMREAD_UNCHANGED or -1:\n",
    "\n",
    "It reads the image as is from the source. If the source image is an RGB, it loads the image into array with Red, Green and Blue channels. If the source image is ARGB, It loads the image with three color components along with the alpha or transparency channel.\n"
   ]
  },
  {
   "cell_type": "code",
   "execution_count": 67,
   "id": "8288e74d",
   "metadata": {},
   "outputs": [
    {
     "name": "stdout",
     "output_type": "stream",
     "text": [
      "(1080, 1920, 3)\n",
      "[[[16 18 18]\n",
      "  [16 18 18]\n",
      "  [16 18 18]\n",
      "  ...\n",
      "  [ 3  3  3]\n",
      "  [13 13 13]\n",
      "  [ 0  0  0]]\n",
      "\n",
      " [[36 38 38]\n",
      "  [36 38 38]\n",
      "  [36 38 38]\n",
      "  ...\n",
      "  [37 37 37]\n",
      "  [37 37 37]\n",
      "  [10 10 10]]\n",
      "\n",
      " [[36 38 38]\n",
      "  [36 38 38]\n",
      "  [36 38 38]\n",
      "  ...\n",
      "  [45 45 45]\n",
      "  [39 39 39]\n",
      "  [ 4  4  4]]\n",
      "\n",
      " ...\n",
      "\n",
      " [[35 38 43]\n",
      "  [35 38 43]\n",
      "  [35 38 43]\n",
      "  ...\n",
      "  [45 45 45]\n",
      "  [39 39 39]\n",
      "  [ 4  4  4]]\n",
      "\n",
      " [[32 34 42]\n",
      "  [32 34 42]\n",
      "  [32 35 40]\n",
      "  ...\n",
      "  [45 45 45]\n",
      "  [37 37 37]\n",
      "  [ 3  3  3]]\n",
      "\n",
      " [[27 29 37]\n",
      "  [27 29 37]\n",
      "  [27 29 37]\n",
      "  ...\n",
      "  [ 4  4  4]\n",
      "  [14 14 14]\n",
      "  [ 0  0  0]]]\n"
     ]
    }
   ],
   "source": [
    "import cv2\n",
    "\n",
    "path = 'wallpaper.jpg'\n",
    "img = cv2.imread(path,1)   # here 0 is for black and white 1 is for color image\n",
    "\n",
    "print(img.shape)\n",
    "print(img)\n",
    "img = cv2.resize(img,(300,400))\n",
    "\n",
    "cv2.imshow('image',img)\n",
    "cv2.waitKey(0)\n",
    "cv2.destroyAllWindows()"
   ]
  },
  {
   "cell_type": "markdown",
   "id": "7448c4c5",
   "metadata": {},
   "source": [
    "# Cv2.imshow() in openCv\n",
    "\n",
    "## Syntax: cv2.imshow(window name, ndarray)\n",
    "This function help to show image or numpy array in the form of image\n",
    "\n"
   ]
  },
  {
   "cell_type": "code",
   "execution_count": 69,
   "id": "e125d961",
   "metadata": {},
   "outputs": [],
   "source": [
    "import cv2\n",
    "import numpy as np\n",
    "\n",
    "matx = np.zeros((200,200))\n",
    "matx\n",
    "\n",
    "cv2.imshow('Zeros matrix',matx)\n",
    "cv2.waitKey(0)\n",
    "cv2.destroyAllWindows()"
   ]
  },
  {
   "cell_type": "code",
   "execution_count": 70,
   "id": "077435c4",
   "metadata": {},
   "outputs": [],
   "source": [
    "img_path = \"wallpaper.jpg\"\n",
    "img = cv2.imread(img_path)\n",
    "\n",
    "cv2.imshow('image', img)\n",
    "\n",
    "\n",
    "cv2.waitKey(0)\n",
    "cv2.destroyAllWindows()"
   ]
  },
  {
   "cell_type": "markdown",
   "id": "999d51cf",
   "metadata": {},
   "source": [
    "# Cv2.imwrite() \n",
    "## Video to image\n",
    "\n",
    "# How to save image or numpy array as image\n",
    "\n",
    "# how to convert video into images\n"
   ]
  },
  {
   "cell_type": "code",
   "execution_count": 71,
   "id": "277abda8",
   "metadata": {},
   "outputs": [],
   "source": [
    "import cv2\n",
    "import numpy as np\n",
    "import os"
   ]
  },
  {
   "cell_type": "markdown",
   "id": "bc8a4664",
   "metadata": {},
   "source": [
    "# Save numpy array"
   ]
  },
  {
   "cell_type": "code",
   "execution_count": 73,
   "id": "54f2d4c8",
   "metadata": {},
   "outputs": [],
   "source": [
    "rand_array = np.random.randint(255,size = (300,600,3))\n",
    "\n",
    "cv2.imwrite(\"rand_np_array.png\", rand_array)     # to save images we use imwrite() function\n",
    "\n",
    "img = cv2.imread('rand_np_array.png')\n",
    "cv2.imshow('image', img)\n",
    "\n",
    "cv2.waitKey(0)\n",
    "cv2.destroyAllWindows()"
   ]
  },
  {
   "cell_type": "markdown",
   "id": "a785fe26",
   "metadata": {},
   "source": [
    "# Save Image"
   ]
  },
  {
   "cell_type": "code",
   "execution_count": 74,
   "id": "40fe9637",
   "metadata": {},
   "outputs": [],
   "source": [
    "img_path = 'wallpaper.jpg'\n",
    "\n",
    "\n",
    "img = cv2.imread(img_path)\n",
    "cv2.imshow('image', img)\n",
    "\n",
    "cv2.imwrite(\"model_wall.png\", img)\n",
    "\n",
    "cv2.waitKey(0)\n",
    "cv2.destroyAllWindows()"
   ]
  },
  {
   "cell_type": "markdown",
   "id": "c3c42b18",
   "metadata": {},
   "source": [
    "# Save Images from Video"
   ]
  },
  {
   "cell_type": "code",
   "execution_count": 75,
   "id": "b7705f70",
   "metadata": {},
   "outputs": [
    {
     "name": "stdout",
     "output_type": "stream",
     "text": [
      "image save at video_to_image\\image1.jpeg\n",
      "image save at video_to_image\\image2.jpeg\n",
      "image save at video_to_image\\image3.jpeg\n",
      "image save at video_to_image\\image4.jpeg\n",
      "image save at video_to_image\\image5.jpeg\n",
      "image save at video_to_image\\image6.jpeg\n",
      "image save at video_to_image\\image7.jpeg\n",
      "image save at video_to_image\\image8.jpeg\n",
      "image save at video_to_image\\image9.jpeg\n",
      "image save at video_to_image\\image10.jpeg\n",
      "image save at video_to_image\\image11.jpeg\n",
      "image save at video_to_image\\image12.jpeg\n",
      "image save at video_to_image\\image13.jpeg\n",
      "image save at video_to_image\\image14.jpeg\n",
      "image save at video_to_image\\image15.jpeg\n",
      "image save at video_to_image\\image16.jpeg\n",
      "image save at video_to_image\\image17.jpeg\n",
      "image save at video_to_image\\image18.jpeg\n",
      "image save at video_to_image\\image19.jpeg\n",
      "image save at video_to_image\\image20.jpeg\n",
      "image save at video_to_image\\image21.jpeg\n",
      "image save at video_to_image\\image22.jpeg\n",
      "image save at video_to_image\\image23.jpeg\n",
      "image save at video_to_image\\image24.jpeg\n",
      "image save at video_to_image\\image25.jpeg\n",
      "image save at video_to_image\\image26.jpeg\n",
      "image save at video_to_image\\image27.jpeg\n",
      "image save at video_to_image\\image28.jpeg\n",
      "image save at video_to_image\\image29.jpeg\n",
      "image save at video_to_image\\image30.jpeg\n",
      "image save at video_to_image\\image31.jpeg\n",
      "image save at video_to_image\\image32.jpeg\n",
      "image save at video_to_image\\image33.jpeg\n",
      "image save at video_to_image\\image34.jpeg\n",
      "image save at video_to_image\\image35.jpeg\n",
      "image save at video_to_image\\image36.jpeg\n",
      "image save at video_to_image\\image37.jpeg\n",
      "image save at video_to_image\\image38.jpeg\n",
      "image save at video_to_image\\image39.jpeg\n",
      "image save at video_to_image\\image40.jpeg\n",
      "image save at video_to_image\\image41.jpeg\n",
      "image save at video_to_image\\image42.jpeg\n",
      "image save at video_to_image\\image43.jpeg\n",
      "image save at video_to_image\\image44.jpeg\n",
      "image save at video_to_image\\image45.jpeg\n",
      "image save at video_to_image\\image46.jpeg\n",
      "image save at video_to_image\\image47.jpeg\n",
      "image save at video_to_image\\image48.jpeg\n",
      "image save at video_to_image\\image49.jpeg\n",
      "image save at video_to_image\\image50.jpeg\n",
      "image save at video_to_image\\image51.jpeg\n",
      "image save at video_to_image\\image52.jpeg\n",
      "image save at video_to_image\\image53.jpeg\n",
      "image save at video_to_image\\image54.jpeg\n",
      "image save at video_to_image\\image55.jpeg\n",
      "image save at video_to_image\\image56.jpeg\n",
      "image save at video_to_image\\image57.jpeg\n",
      "image save at video_to_image\\image58.jpeg\n",
      "image save at video_to_image\\image59.jpeg\n",
      "image save at video_to_image\\image60.jpeg\n",
      "image save at video_to_image\\image61.jpeg\n",
      "image save at video_to_image\\image62.jpeg\n",
      "image save at video_to_image\\image63.jpeg\n",
      "image save at video_to_image\\image64.jpeg\n",
      "image save at video_to_image\\image65.jpeg\n",
      "image save at video_to_image\\image66.jpeg\n",
      "image save at video_to_image\\image67.jpeg\n",
      "image save at video_to_image\\image68.jpeg\n",
      "image save at video_to_image\\image69.jpeg\n",
      "image save at video_to_image\\image70.jpeg\n",
      "image save at video_to_image\\image71.jpeg\n",
      "image save at video_to_image\\image72.jpeg\n",
      "image save at video_to_image\\image73.jpeg\n",
      "image save at video_to_image\\image74.jpeg\n",
      "image save at video_to_image\\image75.jpeg\n",
      "image save at video_to_image\\image76.jpeg\n",
      "image save at video_to_image\\image77.jpeg\n"
     ]
    },
    {
     "ename": "KeyboardInterrupt",
     "evalue": "",
     "output_type": "error",
     "traceback": [
      "\u001b[1;31m---------------------------------------------------------------------------\u001b[0m",
      "\u001b[1;31mKeyboardInterrupt\u001b[0m                         Traceback (most recent call last)",
      "\u001b[1;32m~\\AppData\\Local\\Temp\\ipykernel_5976\\479305716.py\u001b[0m in \u001b[0;36m<module>\u001b[1;34m\u001b[0m\n\u001b[0;32m     15\u001b[0m         \u001b[1;32mbreak\u001b[0m\u001b[1;33m\u001b[0m\u001b[1;33m\u001b[0m\u001b[0m\n\u001b[0;32m     16\u001b[0m \u001b[1;33m\u001b[0m\u001b[0m\n\u001b[1;32m---> 17\u001b[1;33m     \u001b[0mis_img_write\u001b[0m \u001b[1;33m=\u001b[0m \u001b[0mcv2\u001b[0m\u001b[1;33m.\u001b[0m\u001b[0mimwrite\u001b[0m\u001b[1;33m(\u001b[0m\u001b[1;34mf'video_to_image{img_count}.jpeg'\u001b[0m\u001b[1;33m,\u001b[0m \u001b[0mframe\u001b[0m\u001b[1;33m)\u001b[0m\u001b[1;33m\u001b[0m\u001b[1;33m\u001b[0m\u001b[0m\n\u001b[0m\u001b[0;32m     18\u001b[0m \u001b[1;33m\u001b[0m\u001b[0m\n\u001b[0;32m     19\u001b[0m     \u001b[1;32mif\u001b[0m \u001b[0mis_img_write\u001b[0m\u001b[1;33m:\u001b[0m\u001b[1;33m\u001b[0m\u001b[1;33m\u001b[0m\u001b[0m\n",
      "\u001b[1;31mKeyboardInterrupt\u001b[0m: "
     ]
    }
   ],
   "source": [
    "import cv2\n",
    "import os\n",
    "video_path = r\"C:\\Users\\aksha_0iafvb0\\Downloads\\videoplayback.webm\"\n",
    "\n",
    "os.mkdir(\"video_to_image\") # create directory\n",
    "\n",
    "cap = cv2.VideoCapture(video_path) # capture video\n",
    "\n",
    "img_count = 1\n",
    "while cap.isOpened():\n",
    "    ret,frame = cap.read() # read video frame\n",
    "    \n",
    "    if not ret:\n",
    "        print(\"Unable to read frame\")\n",
    "        break\n",
    "        \n",
    "    is_img_write = cv2.imwrite(f'video_to_image{img_count}.jpeg', frame)\n",
    "    \n",
    "    if is_img_write:\n",
    "        print(f'image save at video_to_image\\image{img_count}.jpeg')\n",
    "        \n",
    "        \n",
    "    cv2.imshow(\"video\", frame)\n",
    "    \n",
    "    cv2.waitKey(25) & 0xff == ord('q')\n",
    "    img_count += 1\n",
    "    \n",
    "cap.release()\n",
    "cv2.destroyAllWindow()\n",
    "        "
   ]
  },
  {
   "cell_type": "markdown",
   "id": "993520a8",
   "metadata": {},
   "source": [
    "# Create Video from Numpy Array and images\n",
    "\n",
    "## video from Numpy Array\n",
    "\n"
   ]
  },
  {
   "cell_type": "code",
   "execution_count": 77,
   "id": "fc3e669d",
   "metadata": {},
   "outputs": [],
   "source": [
    "import numpy as np\n",
    "import cv2\n",
    "import os\n",
    "\n",
    "height = 720\n",
    "width = 1020\n",
    "channel = 3\n",
    "\n",
    "fps = 30\n",
    "sec = 5 \n",
    "\n",
    "fourcc = cv2.VideoWriter_fourcc(*'MP42')\n",
    "\n",
    "video = cv2.VideoWriter('test.mp4', fourcc,float(fps), (width,height))\n",
    "\n",
    "for frame_count in range(fps*sec):\n",
    "    img = np.random.randint(0,255,(height,width,channel), dtype = np.uint8)\n",
    "    video.write(img)\n",
    "\n",
    "video.release()"
   ]
  },
  {
   "cell_type": "markdown",
   "id": "77dcb55c",
   "metadata": {},
   "source": [
    "# How to write text on Image\n",
    "\n",
    "Syntax : cv2.putText(image,text,org, font, fontScale, color[,thickness[,line Type[.bttomLeftOrigin]]])"
   ]
  },
  {
   "cell_type": "code",
   "execution_count": 3,
   "id": "73eb583a",
   "metadata": {},
   "outputs": [],
   "source": [
    "import cv2\n",
    "import numpy as np\n",
    "img_path = 'wallpaper.jpg'\n",
    "\n",
    "image = cv2.imread(img_path)\n",
    "\n",
    "image = cv2.resize(image, (1000,720))\n",
    "\n",
    "# these are parameters for putText() function\n",
    "text = \"Wallpaper text\"\n",
    "\n",
    "org = (100,300)\n",
    "font = cv2.FONT_HERSHEY_COMPLEX\n",
    "fontScale = 3\n",
    "color = (255,0,0)\n",
    "thickness = 3\n",
    "lineType = cv2.LINE_AA\n",
    "bottomLeftOrigin = False        # this value is by default false\n",
    "\n",
    "\n",
    "img_text = cv2.putText(image, text,org, font, fontScale, color, thickness, lineType, bottomLeftOrigin)\n",
    "\n",
    "cv2.imshow(\"Image\", img_text)\n",
    "cv2.waitKey(0)\n",
    "cv2.destroyAllWindows()\n",
    "                   \n",
    "           \n"
   ]
  },
  {
   "cell_type": "code",
   "execution_count": 4,
   "id": "e730bb88",
   "metadata": {},
   "outputs": [],
   "source": [
    "import cv2\n",
    "import numpy as np\n",
    "img_path = 'wallpaper.jpg'\n",
    "\n",
    "image = cv2.imread(img_path)\n",
    "\n",
    "image = cv2.resize(image, (1000,720))\n",
    "\n",
    "# these are parameters for putText() function\n",
    "text = \"Wallpaper text\"\n",
    "\n",
    "org = (100,300)\n",
    "font = cv2.FONT_HERSHEY_COMPLEX\n",
    "fontScale = 3\n",
    "color = (255,0,0)\n",
    "thickness = 3\n",
    "lineType = cv2.LINE_AA\n",
    "bottomLeftOrigin = True     # if true it will show mirror image of text we wrote by defalut it is false\n",
    "\n",
    "\n",
    "img_text = cv2.putText(image, text,org, font, fontScale, color, thickness, lineType, bottomLeftOrigin)\n",
    "\n",
    "cv2.imshow(\"Image\", img_text)\n",
    "cv2.waitKey(0)\n",
    "cv2.destroyAllWindows()\n",
    "                   \n",
    "           \n"
   ]
  },
  {
   "cell_type": "code",
   "execution_count": 9,
   "id": "b3bfceb1",
   "metadata": {},
   "outputs": [],
   "source": [
    "import cv2\n",
    "import numpy as np\n",
    "img_path = 'wallpaper.jpg'\n",
    "\n",
    "image = cv2.imread(img_path)\n",
    "\n",
    "image = cv2.resize(image, (1000,720))\n",
    "\n",
    "# these are parameters for putText() function\n",
    "text = \"Model\"\n",
    "\n",
    "org = (100,300)\n",
    "font = cv2.FONT_HERSHEY_COMPLEX\n",
    "fontScale = 3\n",
    "color = (0,255,0)\n",
    "thickness = 3\n",
    "lineType = cv2.LINE_AA\n",
    "bottomLeftOrigin = True     # if true it will show mirror image of text we wrote by defalut it is false\n",
    "\n",
    "\n",
    "img_text = cv2.putText(image, text,org, font, fontScale, color, thickness, lineType, bottomLeftOrigin)\n",
    "img_text = cv2.putText(image, text,org, font, fontScale, color, thickness, lineType, bottomLeftOrigin= False) \n",
    "\n",
    "cv2.imshow(\"Image\", img_text)\n",
    "cv2.waitKey(0)\n",
    "cv2.destroyAllWindows()\n",
    "                   \n",
    "           \n"
   ]
  },
  {
   "cell_type": "markdown",
   "id": "7a222277",
   "metadata": {},
   "source": [
    "# Rectangle And Text on Image"
   ]
  },
  {
   "cell_type": "code",
   "execution_count": 33,
   "id": "3058c1d5",
   "metadata": {},
   "outputs": [],
   "source": [
    "# Draw Rectangle on Image\n",
    "import cv2\n",
    "import numpy as np\n",
    "img_path = r\"C:\\Users\\aksha_0iafvb0\\Downloads\\portfolio1.png\"\n",
    "\n",
    "image = cv2.imread(img_path)\n",
    "image = cv2.resize(image,(1000,600))\n",
    "\n",
    "#rectangle(img, pt1, pt2, color[,thickness[, lineType [, shift]]])\n",
    "\n",
    "pt1 = (350,250)\n",
    "pt2 = (600, 400)\n",
    "color = (0,255, 0)\n",
    "thickness = 2        \n",
    "lineType = cv2.LINE_4\n",
    "\n",
    "img_rect = cv2.rectangle(image, pt1, pt2, color, thickness, lineType)\n",
    "\n",
    "cv2.imshow(\"Image\", img_rect)\n",
    "cv2.waitKey(0)\n",
    "cv2.destroyAllWindows()\n",
    "\n",
    "\n"
   ]
  },
  {
   "cell_type": "code",
   "execution_count": 36,
   "id": "ebe0ecbe",
   "metadata": {},
   "outputs": [],
   "source": [
    "# Fill Rectangle on Image\n",
    "import cv2\n",
    "import numpy as np\n",
    "img_path = r\"C:\\Users\\aksha_0iafvb0\\Downloads\\portfolio1.png\"\n",
    "\n",
    "image = cv2.imread(img_path)\n",
    "image = cv2.resize(image,(1000,600))\n",
    "\n",
    "#rectangle(img, pt1, pt2, color[,thickness[, lineType [, shift]]])\n",
    "\n",
    "pt1 = (350,250)\n",
    "pt2 = (600, 400)\n",
    "color = (200,0, 0)\n",
    "thickness = -1        # if we give -1 in thickness it will fill the rectangle with color we will give\n",
    "lineType = cv2.LINE_4\n",
    "\n",
    "img_rect = cv2.rectangle(image, pt1, pt2, color, thickness, lineType)\n",
    "\n",
    "cv2.imshow(\"Image\", img_rect)\n",
    "cv2.waitKey(0)\n",
    "cv2.destroyAllWindows()\n",
    "\n",
    "\n"
   ]
  },
  {
   "cell_type": "code",
   "execution_count": 40,
   "id": "6f533524",
   "metadata": {},
   "outputs": [],
   "source": [
    "# draw rectangle and also write text inside the rectangle\n",
    "import cv2\n",
    "import numpy as np\n",
    "img_path = r\"C:\\Users\\aksha_0iafvb0\\Downloads\\portfolio1.png\"\n",
    "\n",
    "image = cv2.imread(img_path)\n",
    "image = cv2.resize(image,(1000,600))\n",
    "\n",
    "#rectangle(img, pt1, pt2, color[,thickness[, lineType [, shift]]])\n",
    "\n",
    "pt1 = (350,250)\n",
    "pt2 = (600, 400)\n",
    "color = (200,0, 0)\n",
    "thickness =  3       # if we give -1 in thickness it will fill the rectangle with color we will give\n",
    "lineType = cv2.LINE_4\n",
    "\n",
    "img_rect = cv2.rectangle(image, pt1, pt2, color, thickness, lineType)\n",
    "\n",
    "# text on image\n",
    "text = \"Hey Anurag\"\n",
    "\n",
    "org = (400,300)\n",
    "font = cv2.FONT_HERSHEY_COMPLEX\n",
    "fontScale = 1\n",
    "color = (0,0,180)\n",
    "thickness = 1\n",
    "lineType = cv2.LINE_AA\n",
    "bottomLeftOrigin = False   # if true it will show mirror image of text we wrote by defalut it is false\n",
    "\n",
    "\n",
    "img_text = cv2.putText(img_rect, text,org, font, fontScale, color, thickness, lineType, bottomLeftOrigin)\n",
    "\n",
    "\n",
    "cv2.imshow(\"Image\", img_text)\n",
    "cv2.waitKey(0)\n",
    "cv2.destroyAllWindows()\n",
    "\n",
    "\n"
   ]
  },
  {
   "cell_type": "code",
   "execution_count": 43,
   "id": "2e73b250",
   "metadata": {},
   "outputs": [],
   "source": [
    "# draw rectangle and also write text above the rectangle\n",
    "import cv2\n",
    "import numpy as np\n",
    "img_path = r\"C:\\Users\\aksha_0iafvb0\\Downloads\\portfolio1.png\"\n",
    "\n",
    "image = cv2.imread(img_path)\n",
    "image = cv2.resize(image,(1000,600))\n",
    "\n",
    "#rectangle(img, pt1, pt2, color[,thickness[, lineType [, shift]]])\n",
    "\n",
    "pt1 = (350,250)\n",
    "pt2 = (600, 400)\n",
    "color = (200,0, 0)\n",
    "thickness =  3       # if we give -1 in thickness it will fill the rectangle with color we will give\n",
    "lineType = cv2.LINE_4\n",
    "\n",
    "img_rect = cv2.rectangle(image, pt1, pt2, color, thickness, lineType)\n",
    "\n",
    "# text on image\n",
    "text = \"Hey Anurag\"\n",
    "\n",
    "org = (340,240)\n",
    "font = cv2.FONT_HERSHEY_COMPLEX\n",
    "fontScale = 1\n",
    "color = (0,0,180)\n",
    "thickness = 1\n",
    "lineType = cv2.LINE_AA\n",
    "bottomLeftOrigin = False   # if true it will show mirror image of text we wrote by defalut it is false\n",
    "\n",
    "\n",
    "img_text = cv2.putText(img_rect, text,org, font, fontScale, color, thickness, lineType, bottomLeftOrigin)\n",
    "\n",
    "\n",
    "cv2.imwrite(\"image_detect.png\",img_text)  # remember always give extension like png, jpeg etc\n",
    "\n",
    "cv2.imshow(\"Image\", img_text)\n",
    "cv2.waitKey(0)\n",
    "cv2.destroyAllWindows()\n",
    "\n",
    "\n"
   ]
  },
  {
   "cell_type": "markdown",
   "id": "d09b3bb9",
   "metadata": {},
   "source": [
    "# Circle & Text on image"
   ]
  },
  {
   "cell_type": "code",
   "execution_count": 60,
   "id": "90c9a3f7",
   "metadata": {},
   "outputs": [],
   "source": [
    "import cv2\n",
    "img_path = r\"C:\\Users\\aksha_0iafvb0\\Downloads\\portfolio1.png\"\n",
    "\n",
    "image = cv2.imread(img_path)\n",
    "img_resize = cv2.resize(image,(1000,600))\n",
    "\n",
    "center = (470,350)\n",
    "radius = 120\n",
    "color = (0,255,0)\n",
    "thickness = 3\n",
    "lineType = cv2.LINE_4\n",
    "shift = 0\n",
    "\n",
    "circle_img = cv2.circle(img_resize,center, radius, color, thickness, lineType, shift)\n",
    "\n",
    "cv2.imshow(\"model Image\", circle_img)\n",
    "cv2.waitKey(0)\n",
    "cv2.destroyAllWindows()"
   ]
  },
  {
   "cell_type": "markdown",
   "id": "a42f6a10",
   "metadata": {},
   "source": [
    "# Line on Image"
   ]
  },
  {
   "cell_type": "code",
   "execution_count": 70,
   "id": "a4ed694a",
   "metadata": {},
   "outputs": [],
   "source": [
    "import cv2\n",
    "img_path =  r\"C:\\Users\\aksha_0iafvb0\\Downloads\\portfolio1.png\"\n",
    "\n",
    "image = cv2.imread(img_path)\n",
    "img_resize = cv2.resize(image,(1000,600))\n",
    "\n",
    "pt1 = (180,400)\n",
    "pt2 = ( 500,300)\n",
    "\n",
    "color = (0,255,0)\n",
    "thickness = 3\n",
    "lineType = cv2.LINE_4\n",
    "shift = 0\n",
    "\n",
    "line_img = cv2.line(img_resize,pt1,pt2,color, thickness,lineType, shift)\n",
    "\n",
    "cv2.imshow(\"model Image\", line_img)\n",
    "cv2.waitKey(0)\n",
    "cv2.destroyAllWindows()"
   ]
  },
  {
   "cell_type": "markdown",
   "id": "109bfa3e",
   "metadata": {},
   "source": [
    "# how to convert image color using cv2.cvtColor() function"
   ]
  },
  {
   "cell_type": "code",
   "execution_count": 77,
   "id": "659b51f5",
   "metadata": {},
   "outputs": [],
   "source": [
    "import cv2\n",
    "img_path = 'wallpaper.jpg'\n",
    "\n",
    "image = cv2.imread(img_path)\n",
    "img_resize = cv2.resize(image,(1000,600))\n",
    "\n",
    "img_color = cv2.cvtColor(img_resize, cv2.COLOR_BGR2GRAY)\n",
    "\n",
    "cv2.imshow(\"model Image\", img_color)\n",
    "cv2.waitKey(0)\n",
    "cv2.destroyAllWindows()"
   ]
  },
  {
   "cell_type": "code",
   "execution_count": 72,
   "id": "83480b22",
   "metadata": {},
   "outputs": [
    {
     "data": {
      "text/plain": [
       "(600, 1000, 3)"
      ]
     },
     "execution_count": 72,
     "metadata": {},
     "output_type": "execute_result"
    }
   ],
   "source": [
    "img_resize.shape"
   ]
  },
  {
   "cell_type": "code",
   "execution_count": 73,
   "id": "faa01368",
   "metadata": {},
   "outputs": [
    {
     "data": {
      "text/plain": [
       "array([[24, 24, 24, ..., 16, 15, 12],\n",
       "       [36, 36, 36, ..., 38, 42, 20],\n",
       "       [35, 35, 35, ..., 40, 37, 16],\n",
       "       ...,\n",
       "       [37, 37, 37, ..., 42, 39, 19],\n",
       "       [35, 35, 35, ..., 35, 41, 20],\n",
       "       [29, 29, 29, ..., 17, 19, 11]], dtype=uint8)"
      ]
     },
     "execution_count": 73,
     "metadata": {},
     "output_type": "execute_result"
    }
   ],
   "source": [
    "img_resize[:,:,0]"
   ]
  },
  {
   "cell_type": "code",
   "execution_count": 74,
   "id": "9d3a4254",
   "metadata": {},
   "outputs": [
    {
     "data": {
      "text/plain": [
       "array([[26, 26, 26, ..., 16, 15, 12],\n",
       "       [38, 38, 38, ..., 38, 42, 20],\n",
       "       [37, 37, 37, ..., 40, 37, 16],\n",
       "       ...,\n",
       "       [36, 36, 36, ..., 42, 39, 19],\n",
       "       [38, 38, 38, ..., 35, 41, 20],\n",
       "       [31, 31, 32, ..., 17, 19, 11]], dtype=uint8)"
      ]
     },
     "execution_count": 74,
     "metadata": {},
     "output_type": "execute_result"
    }
   ],
   "source": [
    "img_resize[:,:,1]"
   ]
  },
  {
   "cell_type": "code",
   "execution_count": 75,
   "id": "18e0a77a",
   "metadata": {},
   "outputs": [
    {
     "data": {
      "text/plain": [
       "array([[26, 26, 26, ..., 16, 15, 12],\n",
       "       [38, 38, 38, ..., 38, 42, 20],\n",
       "       [37, 37, 37, ..., 40, 37, 16],\n",
       "       ...,\n",
       "       [39, 38, 38, ..., 42, 39, 19],\n",
       "       [42, 42, 42, ..., 35, 41, 20],\n",
       "       [39, 37, 37, ..., 17, 19, 11]], dtype=uint8)"
      ]
     },
     "execution_count": 75,
     "metadata": {},
     "output_type": "execute_result"
    }
   ],
   "source": [
    "img_resize[:,:,2]"
   ]
  },
  {
   "cell_type": "code",
   "execution_count": 83,
   "id": "7d228298",
   "metadata": {},
   "outputs": [
    {
     "name": "stdout",
     "output_type": "stream",
     "text": [
      "Color number: 40\n",
      "Color number: 6\n",
      "Color number: 4\n"
     ]
    }
   ],
   "source": [
    "import cv2\n",
    "\n",
    "# Load image\n",
    "img_path = 'wallpaper.jpg'\n",
    "image = cv2.imread(img_path)\n",
    "\n",
    "if image is None:\n",
    "    print(\"Error: Unable to load image. Check the file path.\")\n",
    "else:\n",
    "    # Resize image\n",
    "    img_resize = cv2.resize(image, (1000, 600))\n",
    "\n",
    "    # List of valid color conversion codes\n",
    "    img_color = [cv2.COLOR_BGR2HSV, cv2.COLOR_BGR2GRAY, cv2.COLOR_BGR2RGB]\n",
    "\n",
    "    for color_number in img_color:\n",
    "        print(\"Color number:\", color_number)\n",
    "\n",
    "        # Convert image\n",
    "        color_image = cv2.cvtColor(img_resize, color_number)\n",
    "\n",
    "        # Show image\n",
    "        cv2.imshow(\"Converted Image\", color_image)\n",
    "        cv2.waitKey(0)\n",
    "        cv2.destroyAllWindows()\n"
   ]
  },
  {
   "cell_type": "markdown",
   "id": "51bfd124",
   "metadata": {},
   "source": [
    "# Split & Merge Image\n",
    "\n",
    "## How to split Image in single channel & Merge multiple single channel?"
   ]
  },
  {
   "cell_type": "code",
   "execution_count": 84,
   "id": "47f1873f",
   "metadata": {},
   "outputs": [],
   "source": [
    "import cv2\n",
    "import numpy as np\n",
    "img_path = 'wallpaper.jpg'\n",
    "\n",
    "img = cv2.imread(img_path)\n",
    "img = cv2.resize(img,(1000,720))\n",
    "\n",
    "cv2.imshow(\"model Image\", img)\n",
    "\n",
    "cv2.waitKey(0)\n",
    "cv2.destroyAllWindows()"
   ]
  },
  {
   "cell_type": "markdown",
   "id": "95338c28",
   "metadata": {},
   "source": [
    "## Split image using numpy indexing"
   ]
  },
  {
   "cell_type": "code",
   "execution_count": 85,
   "id": "0c80f6e5",
   "metadata": {},
   "outputs": [
    {
     "data": {
      "text/plain": [
       "array([[[21, 23, 23],\n",
       "        [21, 23, 23],\n",
       "        [21, 23, 23],\n",
       "        ...,\n",
       "        [11, 11, 11],\n",
       "        [10, 10, 10],\n",
       "        [10, 10, 10]],\n",
       "\n",
       "       [[36, 38, 38],\n",
       "        [36, 38, 38],\n",
       "        [36, 38, 38],\n",
       "        ...,\n",
       "        [37, 37, 37],\n",
       "        [41, 41, 41],\n",
       "        [21, 21, 21]],\n",
       "\n",
       "       [[35, 37, 37],\n",
       "        [35, 37, 37],\n",
       "        [35, 37, 37],\n",
       "        ...,\n",
       "        [37, 37, 37],\n",
       "        [38, 38, 38],\n",
       "        [17, 17, 17]],\n",
       "\n",
       "       ...,\n",
       "\n",
       "       [[36, 37, 41],\n",
       "        [36, 37, 40],\n",
       "        [36, 37, 40],\n",
       "        ...,\n",
       "        [36, 36, 36],\n",
       "        [35, 35, 35],\n",
       "        [20, 20, 20]],\n",
       "\n",
       "       [[34, 37, 43],\n",
       "        [34, 37, 42],\n",
       "        [34, 37, 41],\n",
       "        ...,\n",
       "        [37, 37, 37],\n",
       "        [43, 43, 43],\n",
       "        [20, 20, 20]],\n",
       "\n",
       "       [[28, 30, 38],\n",
       "        [28, 31, 37],\n",
       "        [28, 31, 36],\n",
       "        ...,\n",
       "        [11, 11, 11],\n",
       "        [13, 13, 13],\n",
       "        [ 9,  9,  9]]], dtype=uint8)"
      ]
     },
     "execution_count": 85,
     "metadata": {},
     "output_type": "execute_result"
    }
   ],
   "source": [
    "img"
   ]
  },
  {
   "cell_type": "code",
   "execution_count": 86,
   "id": "c805a947",
   "metadata": {},
   "outputs": [
    {
     "data": {
      "text/plain": [
       "(720, 1000, 3)"
      ]
     },
     "execution_count": 86,
     "metadata": {},
     "output_type": "execute_result"
    }
   ],
   "source": [
    "img.shape"
   ]
  },
  {
   "cell_type": "code",
   "execution_count": 87,
   "id": "4e5e2df1",
   "metadata": {},
   "outputs": [
    {
     "data": {
      "text/plain": [
       "array([[21, 21, 21, ..., 11, 10, 10],\n",
       "       [36, 36, 36, ..., 37, 41, 21],\n",
       "       [35, 35, 35, ..., 37, 38, 17],\n",
       "       ...,\n",
       "       [36, 36, 36, ..., 36, 35, 20],\n",
       "       [34, 34, 34, ..., 37, 43, 20],\n",
       "       [28, 28, 28, ..., 11, 13,  9]], dtype=uint8)"
      ]
     },
     "execution_count": 87,
     "metadata": {},
     "output_type": "execute_result"
    }
   ],
   "source": [
    "img[:, :, 0]"
   ]
  },
  {
   "cell_type": "code",
   "execution_count": 88,
   "id": "b886cbbc",
   "metadata": {},
   "outputs": [
    {
     "data": {
      "text/plain": [
       "(720, 1000)"
      ]
     },
     "execution_count": 88,
     "metadata": {},
     "output_type": "execute_result"
    }
   ],
   "source": [
    "img[:, :, 0].shape"
   ]
  },
  {
   "cell_type": "code",
   "execution_count": 89,
   "id": "d8332a3b",
   "metadata": {},
   "outputs": [
    {
     "data": {
      "text/plain": [
       "array([[23, 23, 23, ..., 11, 10, 10],\n",
       "       [38, 38, 38, ..., 37, 41, 21],\n",
       "       [37, 37, 37, ..., 37, 38, 17],\n",
       "       ...,\n",
       "       [37, 37, 37, ..., 36, 35, 20],\n",
       "       [37, 37, 37, ..., 37, 43, 20],\n",
       "       [30, 31, 31, ..., 11, 13,  9]], dtype=uint8)"
      ]
     },
     "execution_count": 89,
     "metadata": {},
     "output_type": "execute_result"
    }
   ],
   "source": [
    "img[:, :, 1]"
   ]
  },
  {
   "cell_type": "code",
   "execution_count": 90,
   "id": "dc13bd45",
   "metadata": {},
   "outputs": [
    {
     "data": {
      "text/plain": [
       "(720, 1000)"
      ]
     },
     "execution_count": 90,
     "metadata": {},
     "output_type": "execute_result"
    }
   ],
   "source": [
    "img[:, :, 1].shape"
   ]
  },
  {
   "cell_type": "code",
   "execution_count": 91,
   "id": "0af8023b",
   "metadata": {},
   "outputs": [
    {
     "data": {
      "text/plain": [
       "array([[23, 23, 23, ..., 11, 10, 10],\n",
       "       [38, 38, 38, ..., 37, 41, 21],\n",
       "       [37, 37, 37, ..., 37, 38, 17],\n",
       "       ...,\n",
       "       [41, 40, 40, ..., 36, 35, 20],\n",
       "       [43, 42, 41, ..., 37, 43, 20],\n",
       "       [38, 37, 36, ..., 11, 13,  9]], dtype=uint8)"
      ]
     },
     "execution_count": 91,
     "metadata": {},
     "output_type": "execute_result"
    }
   ],
   "source": [
    "img[:, :, 2]"
   ]
  },
  {
   "cell_type": "code",
   "execution_count": 92,
   "id": "8177629b",
   "metadata": {},
   "outputs": [
    {
     "data": {
      "text/plain": [
       "(720, 1000)"
      ]
     },
     "execution_count": 92,
     "metadata": {},
     "output_type": "execute_result"
    }
   ],
   "source": [
    "img[:, :, 2].shape"
   ]
  },
  {
   "cell_type": "markdown",
   "id": "73c5de9f",
   "metadata": {},
   "source": [
    "## split image using cv2.split()"
   ]
  },
  {
   "cell_type": "code",
   "execution_count": 93,
   "id": "5b77ce99",
   "metadata": {},
   "outputs": [],
   "source": [
    "import cv2\n",
    "import numpy as np\n",
    "img_path = 'wallpaper.jpg'\n",
    "\n",
    "img = cv2.imread(img_path)\n",
    "img = cv2.resize(img,(1000,720))\n",
    "\n",
    "cv2.imshow(\"model Image\", img)\n",
    "\n",
    "cv2.waitKey(0)\n",
    "cv2.destroyAllWindows()"
   ]
  },
  {
   "cell_type": "code",
   "execution_count": 94,
   "id": "c0fea961",
   "metadata": {},
   "outputs": [],
   "source": [
    "b, g, r = cv2.split(img)"
   ]
  },
  {
   "cell_type": "code",
   "execution_count": 95,
   "id": "fd746339",
   "metadata": {},
   "outputs": [
    {
     "data": {
      "text/plain": [
       "array([[21, 21, 21, ..., 11, 10, 10],\n",
       "       [36, 36, 36, ..., 37, 41, 21],\n",
       "       [35, 35, 35, ..., 37, 38, 17],\n",
       "       ...,\n",
       "       [36, 36, 36, ..., 36, 35, 20],\n",
       "       [34, 34, 34, ..., 37, 43, 20],\n",
       "       [28, 28, 28, ..., 11, 13,  9]], dtype=uint8)"
      ]
     },
     "execution_count": 95,
     "metadata": {},
     "output_type": "execute_result"
    }
   ],
   "source": [
    "b"
   ]
  },
  {
   "cell_type": "markdown",
   "id": "397be5db",
   "metadata": {},
   "source": [
    "## Show single channel\n"
   ]
  },
  {
   "cell_type": "code",
   "execution_count": 98,
   "id": "c61b3273",
   "metadata": {},
   "outputs": [],
   "source": [
    "import cv2\n",
    "import numpy as np\n",
    "img_path = 'wallpaper.jpg'\n",
    "\n",
    "img = cv2.imread(img_path)\n",
    "img = cv2.resize(img,(300,300))\n",
    "\n",
    "cv2.imshow(\"model Image Blue\", img[:,:,0])\n",
    "cv2.imshow(\"model Image green\", img[:,:,1])\n",
    "cv2.imshow(\"model Image red\", img[:,:,2])\n",
    "\n",
    "\n",
    "cv2.waitKey(0)\n",
    "cv2.destroyAllWindows()"
   ]
  },
  {
   "cell_type": "code",
   "execution_count": 99,
   "id": "732a5e65",
   "metadata": {},
   "outputs": [],
   "source": [
    "import cv2\n",
    "import numpy as np\n",
    "img_path = 'wallpaper.jpg'\n",
    "\n",
    "img = cv2.imread(img_path)\n",
    "img = cv2.resize(img,(300,300))\n",
    "\n",
    "b,g,r = cv2.split(img)\n",
    "cv2.imshow(\"model Image Blue\", b)\n",
    "cv2.imshow(\"model Image green\", g)\n",
    "cv2.imshow(\"model Image red\", r)\n",
    "\n",
    "\n",
    "cv2.waitKey(0)\n",
    "cv2.destroyAllWindows()"
   ]
  },
  {
   "cell_type": "markdown",
   "id": "8805a61c",
   "metadata": {},
   "source": [
    "# Merge Image using cv2"
   ]
  },
  {
   "cell_type": "code",
   "execution_count": 101,
   "id": "dac448e1",
   "metadata": {},
   "outputs": [],
   "source": [
    "img_merge = cv2.merge([b,g,r])"
   ]
  },
  {
   "cell_type": "code",
   "execution_count": 102,
   "id": "61b3a47d",
   "metadata": {},
   "outputs": [
    {
     "data": {
      "text/plain": [
       "(300, 300, 3)"
      ]
     },
     "execution_count": 102,
     "metadata": {},
     "output_type": "execute_result"
    }
   ],
   "source": [
    "img_merge.shape"
   ]
  },
  {
   "cell_type": "code",
   "execution_count": 103,
   "id": "7d3e4d65",
   "metadata": {},
   "outputs": [],
   "source": [
    "import cv2\n",
    "import numpy as np\n",
    "img_path = 'wallpaper.jpg'\n",
    "\n",
    "img = cv2.imread(img_path)\n",
    "img = cv2.resize(img,(300,300))\n",
    "\n",
    "b, g, r = cv2.split(img)\n",
    "\n",
    "img_merge = cv2.merge([b,g,r])\n",
    "\n",
    "\n",
    "cv2.imshow(\"model Image Blue\", b)\n",
    "cv2.imshow(\"model Image green\", g)\n",
    "cv2.imshow(\"model Image red\", r)\n",
    "\n",
    "cv2.imshow(\"Merge Model Image\", img_merge)\n",
    "\n",
    "\n",
    "cv2.waitKey(0)\n",
    "cv2.destroyAllWindows()"
   ]
  },
  {
   "cell_type": "markdown",
   "id": "0a7afcdb",
   "metadata": {},
   "source": [
    "# Blue image"
   ]
  },
  {
   "cell_type": "code",
   "execution_count": 105,
   "id": "0b69577b",
   "metadata": {},
   "outputs": [],
   "source": [
    "import cv2\n",
    "import numpy as np\n",
    "img_path = 'wallpaper.jpg'\n",
    "\n",
    "img = cv2.imread(img_path)\n",
    "img = cv2.resize(img,(300,300))\n",
    "\n",
    "b, g, r = cv2.split(img)\n",
    "\n",
    "zeros_ch = np.zeros(img.shape[0:2], dtype=\"uint8\")\n",
    "\n",
    "\n",
    "img_merge = cv2.merge([b,zeros_ch,zeros_ch])\n",
    "\n",
    "\n",
    "\n",
    "\n",
    "cv2.imshow(\"Blue Model Image\", img_merge)\n",
    "\n",
    "\n",
    "cv2.waitKey(0)\n",
    "cv2.destroyAllWindows()"
   ]
  },
  {
   "cell_type": "markdown",
   "id": "839dfe27",
   "metadata": {},
   "source": [
    "# Green Image"
   ]
  },
  {
   "cell_type": "code",
   "execution_count": 106,
   "id": "5c05bdbe",
   "metadata": {},
   "outputs": [],
   "source": [
    "import cv2\n",
    "import numpy as np\n",
    "img_path = 'wallpaper.jpg'\n",
    "\n",
    "img = cv2.imread(img_path)\n",
    "img = cv2.resize(img,(300,300))\n",
    "\n",
    "b, g, r = cv2.split(img)\n",
    "\n",
    "zeros_ch = np.zeros(img.shape[0:2], dtype=\"uint8\")\n",
    "\n",
    "\n",
    "img_merge = cv2.merge([zeros_ch,g,zeros_ch])\n",
    "\n",
    "\n",
    "\n",
    "\n",
    "cv2.imshow(\"Green Model Image\", img_merge)\n",
    "\n",
    "\n",
    "cv2.waitKey(0)\n",
    "cv2.destroyAllWindows()"
   ]
  },
  {
   "cell_type": "markdown",
   "id": "d3ef7a9d",
   "metadata": {},
   "source": [
    "# Red image\n"
   ]
  },
  {
   "cell_type": "code",
   "execution_count": 108,
   "id": "e8e24204",
   "metadata": {},
   "outputs": [],
   "source": [
    "import cv2\n",
    "import numpy as np\n",
    "img_path = 'wallpaper.jpg'\n",
    "\n",
    "img = cv2.imread(img_path)\n",
    "img = cv2.resize(img,(300,300))\n",
    "\n",
    "b, g, r = cv2.split(img)\n",
    "\n",
    "zeros_ch = np.zeros(img.shape[0:2], dtype=\"uint8\")\n",
    "\n",
    "\n",
    "img_merge = cv2.merge([zeros_ch,zeros_ch,r])\n",
    "\n",
    "\n",
    "\n",
    "\n",
    "cv2.imshow(\"Red Model Image\", img_merge)\n",
    "\n",
    "\n",
    "cv2.waitKey(0)\n",
    "cv2.destroyAllWindows()"
   ]
  },
  {
   "cell_type": "markdown",
   "id": "a7543166",
   "metadata": {},
   "source": [
    "# Show Image using index spliting and 4 image in one window"
   ]
  },
  {
   "cell_type": "code",
   "execution_count": null,
   "id": "a86b7956",
   "metadata": {},
   "outputs": [],
   "source": [
    "# we can do this by using vstack() and hstack() function"
   ]
  },
  {
   "cell_type": "markdown",
   "id": "101e2329",
   "metadata": {},
   "source": [
    " # How to show Histogram of Image\n",
    " \n",
    " You can consider histogram as a graph or plot, which gives you an overall idea about the intensity distribution of an image. It is a plot with pixel values (ranging from 0 to 255, not always) in X-axis and corresponding number of pixels in the image on Y-axis."
   ]
  },
  {
   "cell_type": "markdown",
   "id": "ece8b6c5",
   "metadata": {},
   "source": [
    "# Blur image using opencv"
   ]
  },
  {
   "cell_type": "code",
   "execution_count": null,
   "id": "f19d1d27",
   "metadata": {},
   "outputs": [],
   "source": []
  },
  {
   "cell_type": "code",
   "execution_count": null,
   "id": "2f96b377",
   "metadata": {},
   "outputs": [],
   "source": []
  },
  {
   "cell_type": "markdown",
   "id": "9d9aef7b",
   "metadata": {},
   "source": [
    "# Change Image file extension\n",
    "\n",
    "## JPG, PSD, MP4, PNG, HTML, CSS, JS, PDF, AI, ID, PHP, TIFF\n",
    "\n",
    "\n",
    "### Supported Image file format by OpenCv\n",
    "\n",
    "windows bitmaps - *.bmp, *.dib (always supported)\n",
    "JPEG files - *.jpeg, *.jpg, *.jpe (see the Notes section)\n",
    "JPEG 2000 files - *jp2 (see te notes section)\n",
    "Portable Network Graphics - *.pbm, *.pgm, *.ppm (always supported)\n",
    "Portable image format - *.pbm, *.pgm, *.ppm (always supported)\n",
    "Sun rasters - *.sr, *.ras (always supported)\n",
    "TIFF files - *.tiff, *.tif ( see the Notes Section)"
   ]
  },
  {
   "cell_type": "code",
   "execution_count": 109,
   "id": "11fdd671",
   "metadata": {},
   "outputs": [],
   "source": [
    "import cv2\n",
    "import numpy as np\n",
    "img_path = 'wallpaper.jpg'\n",
    "img = cv2.imread(img_path)\n",
    "\n",
    "\n",
    "cv2.imshow(\"image\", img)\n",
    "\n",
    "cv2.waitKey(0)\n",
    "cv2.destroyAllWindows()"
   ]
  },
  {
   "cell_type": "markdown",
   "id": "575d70e9",
   "metadata": {},
   "source": [
    "## Change Image extension JPG to PNG"
   ]
  },
  {
   "cell_type": "code",
   "execution_count": 110,
   "id": "566c47aa",
   "metadata": {},
   "outputs": [
    {
     "name": "stdout",
     "output_type": "stream",
     "text": [
      "image stored at location: wallpaper.png\n"
     ]
    }
   ],
   "source": [
    "img_output_path = 'wallpaper.png'\n",
    "response = cv2.imwrite(img_output_path, img)\n",
    "\n",
    "if response:\n",
    "    print(\"image stored at location:\", img_output_path)"
   ]
  },
  {
   "cell_type": "markdown",
   "id": "a50971a9",
   "metadata": {},
   "source": [
    "## Change image extension PNG to JPG"
   ]
  },
  {
   "cell_type": "code",
   "execution_count": 111,
   "id": "2bc1f4fe",
   "metadata": {},
   "outputs": [],
   "source": [
    "import cv2\n",
    "import numpy as np\n",
    "img_path = 'wallpaper.png'\n",
    "img = cv2.imread(img_path)\n",
    "\n",
    "\n",
    "cv2.imshow(\"image\", img)\n",
    "\n",
    "cv2.waitKey(0)\n",
    "cv2.destroyAllWindows()\n"
   ]
  },
  {
   "cell_type": "code",
   "execution_count": 112,
   "id": "f747924b",
   "metadata": {},
   "outputs": [
    {
     "name": "stdout",
     "output_type": "stream",
     "text": [
      "image stored at location: wallpaper.jpg\n"
     ]
    }
   ],
   "source": [
    "img_output_path = 'wallpaper2.jpg'\n",
    "response = cv2.imwrite(img_output_path, img)\n",
    "\n",
    "if response:\n",
    "    print(\"image stored at location:\", img_output_path)"
   ]
  },
  {
   "cell_type": "code",
   "execution_count": null,
   "id": "0ddd8ce1",
   "metadata": {},
   "outputs": [],
   "source": []
  }
 ],
 "metadata": {
  "kernelspec": {
   "display_name": "Python 3 (ipykernel)",
   "language": "python",
   "name": "python3"
  },
  "language_info": {
   "codemirror_mode": {
    "name": "ipython",
    "version": 3
   },
   "file_extension": ".py",
   "mimetype": "text/x-python",
   "name": "python",
   "nbconvert_exporter": "python",
   "pygments_lexer": "ipython3",
   "version": "3.9.13"
  }
 },
 "nbformat": 4,
 "nbformat_minor": 5
}
