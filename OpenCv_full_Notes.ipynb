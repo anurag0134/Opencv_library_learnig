{
 "cells": [
  {
   "cell_type": "markdown",
   "id": "76c623f2",
   "metadata": {},
   "source": [
    "# OpenCv\n",
    "OpenCv (open source computer vision library) is an open source computer visison and machine learning software librray.\n",
    "The library has more than 2500 optimized algorithms,\n",
    "Opencv is written natively in c++\n",
    "initial release June 2000\n",
    "\n",
    "Install anaconda navigator \n",
    "Run as administrator\n",
    "go to environments \n",
    "create environment and install necessary library "
   ]
  },
  {
   "cell_type": "code",
   "execution_count": null,
   "id": "a564bab6",
   "metadata": {},
   "outputs": [],
   "source": []
  },
  {
   "cell_type": "code",
   "execution_count": 2,
   "id": "daddb38e",
   "metadata": {},
   "outputs": [
    {
     "name": "stdout",
     "output_type": "stream",
     "text": [
      "4.9.0\n"
     ]
    }
   ],
   "source": [
    "# pip install opecv-python\n",
    "import cv2\n",
    "print(cv2.__version__)"
   ]
  },
  {
   "cell_type": "code",
   "execution_count": 3,
   "id": "7016ce41",
   "metadata": {},
   "outputs": [
    {
     "name": "stdout",
     "output_type": "stream",
     "text": [
      "1.24.4\n"
     ]
    }
   ],
   "source": [
    "import numpy\n",
    "print(numpy.__version__)"
   ]
  },
  {
   "cell_type": "code",
   "execution_count": 4,
   "id": "6f728798",
   "metadata": {},
   "outputs": [
    {
     "name": "stdout",
     "output_type": "stream",
     "text": [
      "1.4.4\n"
     ]
    }
   ],
   "source": [
    "import pandas\n",
    "print(pandas.__version__)"
   ]
  },
  {
   "cell_type": "code",
   "execution_count": 5,
   "id": "e9b927ae",
   "metadata": {},
   "outputs": [
    {
     "name": "stdout",
     "output_type": "stream",
     "text": [
      "3.5.2\n"
     ]
    }
   ],
   "source": [
    "import matplotlib\n",
    "print(matplotlib.__version__)"
   ]
  },
  {
   "cell_type": "markdown",
   "id": "c7b74f5b",
   "metadata": {},
   "source": [
    "1. How to show image? \n",
    "2. Resize image\n",
    "3. slide show 4 image in one window\n",
    "4. Multiple images in one window"
   ]
  },
  {
   "cell_type": "code",
   "execution_count": 8,
   "id": "7c3f8b89",
   "metadata": {},
   "outputs": [],
   "source": [
    "import cv2\n",
    "path = r\"\"\"C:\\Users\\aksha_0iafvb0\\Downloads\\wallpaper.jpg\"\"\"\n",
    "\n",
    "img = cv2.imread(path)       # iamread() used for reading image\n",
    "cv2.imshow('Image', img)     # iamshow() used for showing image\n",
    "cv2.waitKey(0)               # if 1 the window will close in 1 sec if 0 then when we press any button then window will close\n",
    "cv2.destroyAllWindows()"
   ]
  },
  {
   "cell_type": "code",
   "execution_count": 9,
   "id": "7a6e9ef1",
   "metadata": {},
   "outputs": [],
   "source": [
    "path = r\"\"\"C:\\Users\\aksha_0iafvb0\\Downloads\\wallpaper.jpg\"\"\"\n",
    "\n",
    "img = cv2.imread(path)   \n",
    "\n",
    "img = cv2.resize(img, (600,400))   # resize() is used for resizing the image\n",
    "cv2.imshow('Image', img)    \n",
    "cv2.waitKey(0)         \n",
    "cv2.destroyAllWindows()"
   ]
  },
  {
   "cell_type": "code",
   "execution_count": 16,
   "id": "1283f017",
   "metadata": {},
   "outputs": [
    {
     "data": {
      "text/plain": [
       "['IMG_2586.JPG',\n",
       " 'IMG_2587 (1).JPG',\n",
       " 'IMG_2587.JPG',\n",
       " 'IMG_2588 (1).JPG',\n",
       " 'IMG_2588.JPG',\n",
       " 'IMG_2589.JPG',\n",
       " 'IMG_2591.JPG',\n",
       " 'IMG_2592.JPG',\n",
       " 'IMG_2593.JPG',\n",
       " 'IMG_2615.JPG',\n",
       " 'IMG_2616.JPG',\n",
       " 'IMG_2617.JPG',\n",
       " 'IMG_2618.JPG',\n",
       " 'IMG_2619.JPG',\n",
       " 'IMG_2620.JPG',\n",
       " 'IMG_2621.JPG',\n",
       " 'IMG_2622.JPG',\n",
       " 'IMG_2623.JPG',\n",
       " 'IMG_2624.JPG',\n",
       " 'IMG_2625.JPG',\n",
       " 'IMG_2626.JPG',\n",
       " 'IMG_2627.JPG',\n",
       " 'IMG_2628.JPG',\n",
       " 'IMG_2629.JPG',\n",
       " 'IMG_2630.JPG',\n",
       " 'IMG_2631.JPG',\n",
       " 'IMG_2632.JPG',\n",
       " 'IMG_2650.JPG',\n",
       " 'IMG_2651.JPG',\n",
       " 'IMG_2652.JPG',\n",
       " 'IMG_2653.JPG',\n",
       " 'IMG_2654.JPG']"
      ]
     },
     "execution_count": 16,
     "metadata": {},
     "output_type": "execute_result"
    }
   ],
   "source": [
    "import os\n",
    "img_names = os.listdir(r\"C:\\Users\\aksha_0iafvb0\\OneDrive\\Desktop\\company resume\")\n",
    "img_names"
   ]
  },
  {
   "cell_type": "code",
   "execution_count": 24,
   "id": "983afc74",
   "metadata": {},
   "outputs": [],
   "source": [
    "import cv2\n",
    "import os\n",
    "\n",
    "path = r\"C:\\Users\\aksha_0iafvb0\\OneDrive\\Desktop\\company resume\"\n",
    "\n",
    "# Get list of image files in the directory\n",
    "for img_name in os.listdir(path):\n",
    "    img_path_full = os.path.join(path, img_name)\n",
    "\n",
    "    # Read and process only if it's a valid image\n",
    "    img = cv2.imread(img_path_full)\n",
    "    if img is not None:\n",
    "        img = cv2.resize(img, (1000, 720))\n",
    "        cv2.imshow('image', img)\n",
    "        cv2.waitKey(500)  # Wait for a key press to show the next image\n",
    "\n",
    "cv2.destroyAllWindows()\n"
   ]
  },
  {
   "cell_type": "code",
   "execution_count": 28,
   "id": "3bc96977",
   "metadata": {},
   "outputs": [],
   "source": [
    "import numpy as np\n",
    "\n",
    "for img_name in img_names:\n",
    "    img_path_full = os.path.join(path,img_name)\n",
    "    img = cv2.imread(img_path_full)\n",
    "    img = cv2.resize(img,(300,200))\n",
    "    img_2 = np.hstack((img,img))     #if we want to add more images vertically ((img,img,img)) continuously give ,img\n",
    "    img_4 = np.vstack((img_2,img_2))  # if we want vertically more imgae ,img_2  addd \n",
    "    cv2.imshow('4 Image', img_4)\n",
    "    cv2.waitKey(500)\n",
    "    \n",
    "cv2.destroyAllWindows()"
   ]
  },
  {
   "cell_type": "markdown",
   "id": "9dc09867",
   "metadata": {},
   "source": [
    "# Video/Camera Play\n",
    "1. how to play video\n",
    "2. how to access camera\n",
    "3. howw to play multiple video/camera in one window"
   ]
  },
  {
   "cell_type": "code",
   "execution_count": 29,
   "id": "49f4fd72",
   "metadata": {},
   "outputs": [],
   "source": [
    "import numpy as np\n",
    "import cv2\n",
    "video_path1 = r\"C:\\Users\\aksha_0iafvb0\\OneDrive\\Desktop\\photos\\IMG_2582.MOV\"\n",
    "video_path2 = r\"C:\\Users\\aksha_0iafvb0\\Downloads\\videoplayback.webm\""
   ]
  },
  {
   "cell_type": "code",
   "execution_count": 37,
   "id": "3077c904",
   "metadata": {},
   "outputs": [],
   "source": [
    "cap = cv2.VideoCapture(video_path1)\n",
    "\n",
    "while cap.isOpened():\n",
    "    ret, frame = cap.read()\n",
    "    if ret:\n",
    "        \n",
    "        image = cv2.resize(frame,(400 ,500))\n",
    "    \n",
    "        cv2.imshow('video player',image)\n",
    "        \n",
    "        if cv2.waitKey(25) & 0xff == ord('q'):\n",
    "            break\n",
    "    else:\n",
    "        break\n",
    "        \n",
    "cap.release()\n",
    "cv2.destroyAllWindows()"
   ]
  },
  {
   "cell_type": "code",
   "execution_count": 38,
   "id": "ca9e4877",
   "metadata": {},
   "outputs": [],
   "source": [
    "cap = cv2.VideoCapture(0)\n",
    "\n",
    "while cap.isOpened():\n",
    "    ret, frame = cap.read()\n",
    "    if ret:\n",
    "        \n",
    "        image = cv2.resize(frame,(400 ,500))\n",
    "    \n",
    "        cv2.imshow('video player',image)\n",
    "        \n",
    "        if cv2.waitKey(25) & 0xff == ord('q'):\n",
    "            break\n",
    "    else:\n",
    "        break\n",
    "        \n",
    "cap.release()\n",
    "cv2.destroyAllWindows()"
   ]
  },
  {
   "cell_type": "code",
   "execution_count": 42,
   "id": "95bcd2ab",
   "metadata": {},
   "outputs": [],
   "source": [
    "\n",
    "cap = cv2.VideoCapture(0)\n",
    "\n",
    "while cap.isOpened():\n",
    "    ret, frame = cap.read()\n",
    "    if ret:\n",
    "        \n",
    "        image = cv2.resize(frame,(400 ,250))\n",
    "        \n",
    "        frame2 = np.hstack((image, image))\n",
    "        frame3 = np.vstack((frame2, frame2))\n",
    "    \n",
    "        cv2.imshow('video player',frame3)\n",
    "        \n",
    "        if cv2.waitKey(25) & 0xff == ord('q'):\n",
    "            break\n",
    "    else:\n",
    "        break\n",
    "        \n",
    "cap.release()\n",
    "cv2.destroyAllWindows()"
   ]
  },
  {
   "cell_type": "code",
   "execution_count": 55,
   "id": "9c0f1d94",
   "metadata": {},
   "outputs": [],
   "source": [
    "import cv2\n",
    "import numpy as np\n",
    "import os\n",
    "\n",
    "video_path1 = r\"C:\\Users\\aksha_0iafvb0\\OneDrive\\Desktop\\photos\\IMG_2582.MOV\"\n",
    "video_path2 = r\"C:\\Users\\aksha_0iafvb0\\Downloads\\videoplayback.webm\"\n",
    "\n",
    "cap1 = cv2.VideoCapture(0)  # Webcam\n",
    "cap2 = cv2.VideoCapture(video_path2)  # Video file 1\n",
    "cap3 = cv2.VideoCapture(video_path1)  # Video file 2\n",
    "\n",
    "while cap1.isOpened() and cap2.isOpened() and cap3.isOpened():\n",
    "    ret1, frame1 = cap1.read()\n",
    "    ret2, frame2 = cap2.read()\n",
    "    ret3, frame3 = cap3.read()\n",
    "    \n",
    "    if ret1 and ret2 and ret3:\n",
    "        frame1 = cv2.resize(frame1, (300, 250))\n",
    "        frame2 = cv2.resize(frame2, (300, 250))\n",
    "        frame3 = cv2.resize(frame3, (300, 250))\n",
    "        \n",
    "        combined_top = np.hstack((frame1, frame2))\n",
    "        combined_bottom = np.hstack((frame3, frame3))\n",
    "        final_frame = np.vstack((combined_top, combined_bottom))\n",
    "        \n",
    "        cv2.imshow('Video Player', final_frame)\n",
    "        \n",
    "        if cv2.waitKey(25) & 0xFF == ord('q'):\n",
    "            break\n",
    "    else:\n",
    "        break\n",
    "\n",
    "cap1.release()\n",
    "cap2.release()\n",
    "cap3.release()\n",
    "cv2.destroyAllWindows()\n"
   ]
  },
  {
   "cell_type": "markdown",
   "id": "7bb25f0c",
   "metadata": {},
   "source": [
    "# cv2.imread()\n",
    "# Read RGB, Grey, Transparent Image\n",
    "\n",
    "\n",
    "Syntax: cv2.imread(path,flag)\n",
    "\n",
    "Parameters:\n",
    "\n",
    "path: Image path\n",
    "\n",
    "## flag: default value is cv2.IMREAD_COLOR\n",
    "\n",
    "CV2.IMREAD_COLOR or 1:\n",
    "\n",
    "reads the image with RGB colors\n",
    "\n",
    "cv2.IMREAD_GRAYSCALE or 0:\n",
    "\n",
    "reads the image with gray colors\n",
    "\n",
    "cv2.IMREAD_UNCHANGED or -1:\n",
    "\n",
    "It reads the image as is from the source. If the source image is an RGB, it loads the image into array with Red, Green and Blue channels. If the source image is ARGB, It loads the image with three color components along with the alpha or transparency channel.\n"
   ]
  },
  {
   "cell_type": "code",
   "execution_count": 67,
   "id": "bd5d158a",
   "metadata": {},
   "outputs": [
    {
     "name": "stdout",
     "output_type": "stream",
     "text": [
      "(1080, 1920, 3)\n",
      "[[[16 18 18]\n",
      "  [16 18 18]\n",
      "  [16 18 18]\n",
      "  ...\n",
      "  [ 3  3  3]\n",
      "  [13 13 13]\n",
      "  [ 0  0  0]]\n",
      "\n",
      " [[36 38 38]\n",
      "  [36 38 38]\n",
      "  [36 38 38]\n",
      "  ...\n",
      "  [37 37 37]\n",
      "  [37 37 37]\n",
      "  [10 10 10]]\n",
      "\n",
      " [[36 38 38]\n",
      "  [36 38 38]\n",
      "  [36 38 38]\n",
      "  ...\n",
      "  [45 45 45]\n",
      "  [39 39 39]\n",
      "  [ 4  4  4]]\n",
      "\n",
      " ...\n",
      "\n",
      " [[35 38 43]\n",
      "  [35 38 43]\n",
      "  [35 38 43]\n",
      "  ...\n",
      "  [45 45 45]\n",
      "  [39 39 39]\n",
      "  [ 4  4  4]]\n",
      "\n",
      " [[32 34 42]\n",
      "  [32 34 42]\n",
      "  [32 35 40]\n",
      "  ...\n",
      "  [45 45 45]\n",
      "  [37 37 37]\n",
      "  [ 3  3  3]]\n",
      "\n",
      " [[27 29 37]\n",
      "  [27 29 37]\n",
      "  [27 29 37]\n",
      "  ...\n",
      "  [ 4  4  4]\n",
      "  [14 14 14]\n",
      "  [ 0  0  0]]]\n"
     ]
    }
   ],
   "source": [
    "import cv2\n",
    "\n",
    "path = 'wallpaper.jpg'\n",
    "img = cv2.imread(path,1)   # here 0 is for black and white 1 is for color image\n",
    "\n",
    "print(img.shape)\n",
    "print(img)\n",
    "img = cv2.resize(img,(300,400))\n",
    "\n",
    "cv2.imshow('image',img)\n",
    "cv2.waitKey(0)\n",
    "cv2.destroyAllWindows()"
   ]
  },
  {
   "cell_type": "markdown",
   "id": "d2324473",
   "metadata": {},
   "source": [
    "# Cv2.imshow() in openCv\n",
    "\n",
    "## Syntax: cv2.imshow(window name, ndarray)\n",
    "This function help to show image or numpy array in the form of image\n",
    "\n"
   ]
  },
  {
   "cell_type": "code",
   "execution_count": 69,
   "id": "63a42410",
   "metadata": {},
   "outputs": [],
   "source": [
    "import cv2\n",
    "import numpy as np\n",
    "\n",
    "matx = np.zeros((200,200))\n",
    "matx\n",
    "\n",
    "cv2.imshow('Zeros matrix',matx)\n",
    "cv2.waitKey(0)\n",
    "cv2.destroyAllWindows()"
   ]
  },
  {
   "cell_type": "code",
   "execution_count": 70,
   "id": "4d413e5d",
   "metadata": {},
   "outputs": [],
   "source": [
    "img_path = \"wallpaper.jpg\"\n",
    "img = cv2.imread(img_path)\n",
    "\n",
    "cv2.imshow('image', img)\n",
    "\n",
    "\n",
    "cv2.waitKey(0)\n",
    "cv2.destroyAllWindows()"
   ]
  },
  {
   "cell_type": "markdown",
   "id": "03214057",
   "metadata": {},
   "source": [
    "# Cv2.imwrite() \n",
    "## Video to image\n",
    "\n",
    "# How to save image or numpy array as image\n",
    "\n",
    "# how to convert video into images\n"
   ]
  },
  {
   "cell_type": "code",
   "execution_count": 71,
   "id": "9d6a5a22",
   "metadata": {},
   "outputs": [],
   "source": [
    "import cv2\n",
    "import numpy as np\n",
    "import os"
   ]
  },
  {
   "cell_type": "markdown",
   "id": "ae907bb5",
   "metadata": {},
   "source": [
    "# Save numpy array"
   ]
  },
  {
   "cell_type": "code",
   "execution_count": 73,
   "id": "1dd941f8",
   "metadata": {},
   "outputs": [],
   "source": [
    "rand_array = np.random.randint(255,size = (300,600,3))\n",
    "\n",
    "cv2.imwrite(\"rand_np_array.png\", rand_array)     # to save images we use imwrite() function\n",
    "\n",
    "img = cv2.imread('rand_np_array.png')\n",
    "cv2.imshow('image', img)\n",
    "\n",
    "cv2.waitKey(0)\n",
    "cv2.destroyAllWindows()"
   ]
  },
  {
   "cell_type": "markdown",
   "id": "74a9e596",
   "metadata": {},
   "source": [
    "# Save Image"
   ]
  },
  {
   "cell_type": "code",
   "execution_count": 74,
   "id": "a47f809e",
   "metadata": {},
   "outputs": [],
   "source": [
    "img_path = 'wallpaper.jpg'\n",
    "\n",
    "\n",
    "img = cv2.imread(img_path)\n",
    "cv2.imshow('image', img)\n",
    "\n",
    "cv2.imwrite(\"model_wall.png\", img)\n",
    "\n",
    "cv2.waitKey(0)\n",
    "cv2.destroyAllWindows()"
   ]
  },
  {
   "cell_type": "markdown",
   "id": "8c12cb49",
   "metadata": {},
   "source": [
    "# Save Images from Video"
   ]
  },
  {
   "cell_type": "code",
   "execution_count": 75,
   "id": "c3f912cf",
   "metadata": {},
   "outputs": [
    {
     "name": "stdout",
     "output_type": "stream",
     "text": [
      "image save at video_to_image\\image1.jpeg\n",
      "image save at video_to_image\\image2.jpeg\n",
      "image save at video_to_image\\image3.jpeg\n",
      "image save at video_to_image\\image4.jpeg\n",
      "image save at video_to_image\\image5.jpeg\n",
      "image save at video_to_image\\image6.jpeg\n",
      "image save at video_to_image\\image7.jpeg\n",
      "image save at video_to_image\\image8.jpeg\n",
      "image save at video_to_image\\image9.jpeg\n",
      "image save at video_to_image\\image10.jpeg\n",
      "image save at video_to_image\\image11.jpeg\n",
      "image save at video_to_image\\image12.jpeg\n",
      "image save at video_to_image\\image13.jpeg\n",
      "image save at video_to_image\\image14.jpeg\n",
      "image save at video_to_image\\image15.jpeg\n",
      "image save at video_to_image\\image16.jpeg\n",
      "image save at video_to_image\\image17.jpeg\n",
      "image save at video_to_image\\image18.jpeg\n",
      "image save at video_to_image\\image19.jpeg\n",
      "image save at video_to_image\\image20.jpeg\n",
      "image save at video_to_image\\image21.jpeg\n",
      "image save at video_to_image\\image22.jpeg\n",
      "image save at video_to_image\\image23.jpeg\n",
      "image save at video_to_image\\image24.jpeg\n",
      "image save at video_to_image\\image25.jpeg\n",
      "image save at video_to_image\\image26.jpeg\n",
      "image save at video_to_image\\image27.jpeg\n",
      "image save at video_to_image\\image28.jpeg\n",
      "image save at video_to_image\\image29.jpeg\n",
      "image save at video_to_image\\image30.jpeg\n",
      "image save at video_to_image\\image31.jpeg\n",
      "image save at video_to_image\\image32.jpeg\n",
      "image save at video_to_image\\image33.jpeg\n",
      "image save at video_to_image\\image34.jpeg\n",
      "image save at video_to_image\\image35.jpeg\n",
      "image save at video_to_image\\image36.jpeg\n",
      "image save at video_to_image\\image37.jpeg\n",
      "image save at video_to_image\\image38.jpeg\n",
      "image save at video_to_image\\image39.jpeg\n",
      "image save at video_to_image\\image40.jpeg\n",
      "image save at video_to_image\\image41.jpeg\n",
      "image save at video_to_image\\image42.jpeg\n",
      "image save at video_to_image\\image43.jpeg\n",
      "image save at video_to_image\\image44.jpeg\n",
      "image save at video_to_image\\image45.jpeg\n",
      "image save at video_to_image\\image46.jpeg\n",
      "image save at video_to_image\\image47.jpeg\n",
      "image save at video_to_image\\image48.jpeg\n",
      "image save at video_to_image\\image49.jpeg\n",
      "image save at video_to_image\\image50.jpeg\n",
      "image save at video_to_image\\image51.jpeg\n",
      "image save at video_to_image\\image52.jpeg\n",
      "image save at video_to_image\\image53.jpeg\n",
      "image save at video_to_image\\image54.jpeg\n",
      "image save at video_to_image\\image55.jpeg\n",
      "image save at video_to_image\\image56.jpeg\n",
      "image save at video_to_image\\image57.jpeg\n",
      "image save at video_to_image\\image58.jpeg\n",
      "image save at video_to_image\\image59.jpeg\n",
      "image save at video_to_image\\image60.jpeg\n",
      "image save at video_to_image\\image61.jpeg\n",
      "image save at video_to_image\\image62.jpeg\n",
      "image save at video_to_image\\image63.jpeg\n",
      "image save at video_to_image\\image64.jpeg\n",
      "image save at video_to_image\\image65.jpeg\n",
      "image save at video_to_image\\image66.jpeg\n",
      "image save at video_to_image\\image67.jpeg\n",
      "image save at video_to_image\\image68.jpeg\n",
      "image save at video_to_image\\image69.jpeg\n",
      "image save at video_to_image\\image70.jpeg\n",
      "image save at video_to_image\\image71.jpeg\n",
      "image save at video_to_image\\image72.jpeg\n",
      "image save at video_to_image\\image73.jpeg\n",
      "image save at video_to_image\\image74.jpeg\n",
      "image save at video_to_image\\image75.jpeg\n",
      "image save at video_to_image\\image76.jpeg\n",
      "image save at video_to_image\\image77.jpeg\n"
     ]
    },
    {
     "ename": "KeyboardInterrupt",
     "evalue": "",
     "output_type": "error",
     "traceback": [
      "\u001b[1;31m---------------------------------------------------------------------------\u001b[0m",
      "\u001b[1;31mKeyboardInterrupt\u001b[0m                         Traceback (most recent call last)",
      "\u001b[1;32m~\\AppData\\Local\\Temp\\ipykernel_5976\\479305716.py\u001b[0m in \u001b[0;36m<module>\u001b[1;34m\u001b[0m\n\u001b[0;32m     15\u001b[0m         \u001b[1;32mbreak\u001b[0m\u001b[1;33m\u001b[0m\u001b[1;33m\u001b[0m\u001b[0m\n\u001b[0;32m     16\u001b[0m \u001b[1;33m\u001b[0m\u001b[0m\n\u001b[1;32m---> 17\u001b[1;33m     \u001b[0mis_img_write\u001b[0m \u001b[1;33m=\u001b[0m \u001b[0mcv2\u001b[0m\u001b[1;33m.\u001b[0m\u001b[0mimwrite\u001b[0m\u001b[1;33m(\u001b[0m\u001b[1;34mf'video_to_image{img_count}.jpeg'\u001b[0m\u001b[1;33m,\u001b[0m \u001b[0mframe\u001b[0m\u001b[1;33m)\u001b[0m\u001b[1;33m\u001b[0m\u001b[1;33m\u001b[0m\u001b[0m\n\u001b[0m\u001b[0;32m     18\u001b[0m \u001b[1;33m\u001b[0m\u001b[0m\n\u001b[0;32m     19\u001b[0m     \u001b[1;32mif\u001b[0m \u001b[0mis_img_write\u001b[0m\u001b[1;33m:\u001b[0m\u001b[1;33m\u001b[0m\u001b[1;33m\u001b[0m\u001b[0m\n",
      "\u001b[1;31mKeyboardInterrupt\u001b[0m: "
     ]
    }
   ],
   "source": [
    "import cv2\n",
    "import os\n",
    "video_path = r\"C:\\Users\\aksha_0iafvb0\\Downloads\\videoplayback.webm\"\n",
    "\n",
    "os.mkdir(\"video_to_image\") # create directory\n",
    "\n",
    "cap = cv2.VideoCapture(video_path) # capture video\n",
    "\n",
    "img_count = 1\n",
    "while cap.isOpened():\n",
    "    ret,frame = cap.read() # read video frame\n",
    "    \n",
    "    if not ret:\n",
    "        print(\"Unable to read frame\")\n",
    "        break\n",
    "        \n",
    "    is_img_write = cv2.imwrite(f'video_to_image{img_count}.jpeg', frame)\n",
    "    \n",
    "    if is_img_write:\n",
    "        print(f'image save at video_to_image\\image{img_count}.jpeg')\n",
    "        \n",
    "        \n",
    "    cv2.imshow(\"video\", frame)\n",
    "    \n",
    "    cv2.waitKey(25) & 0xff == ord('q')\n",
    "    img_count += 1\n",
    "    \n",
    "cap.release()\n",
    "cv2.destroyAllWindow()\n",
    "        "
   ]
  },
  {
   "cell_type": "markdown",
   "id": "9d62be86",
   "metadata": {},
   "source": [
    "# Create Video from Numpy Array and images\n",
    "\n",
    "## video from Numpy Array\n",
    "\n"
   ]
  },
  {
   "cell_type": "code",
   "execution_count": null,
   "id": "c3ad82cd",
   "metadata": {},
   "outputs": [],
   "source": [
    "import numpy as np\n",
    "import cv2\n",
    "import os\n",
    "\n",
    "height = 1000\n",
    "weight = 720\n",
    "channel = 3\n",
    "\n",
    "fps = 30\n",
    "sec = 5 \n",
    "\n",
    "cv2.VideoWriter_fourcc()"
   ]
  }
 ],
 "metadata": {
  "kernelspec": {
   "display_name": "Python 3 (ipykernel)",
   "language": "python",
   "name": "python3"
  },
  "language_info": {
   "codemirror_mode": {
    "name": "ipython",
    "version": 3
   },
   "file_extension": ".py",
   "mimetype": "text/x-python",
   "name": "python",
   "nbconvert_exporter": "python",
   "pygments_lexer": "ipython3",
   "version": "3.9.13"
  }
 },
 "nbformat": 4,
 "nbformat_minor": 5
}
