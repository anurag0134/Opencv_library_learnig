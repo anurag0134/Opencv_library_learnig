{
 "cells": [
  {
   "cell_type": "markdown",
   "id": "83d193ca",
   "metadata": {},
   "source": [
    "# Hand tracking\n",
    "\n",
    "# 1. Palm Detection \n",
    "\n",
    "Palm detection is basically works on full image and it provides croped image of the hand\n",
    "\n",
    "# 2. Hand Landmarks\n",
    "Hand landmarks module has 21 different landmarks of the croped image of the hand.\n",
    "\n",
    "  0. WRIST  1. THUMB_CMC 2. THUMB_MCP 3. THUMB_IP 4. THUMB_TIP 5. INDEX_FINGER_MCP 6. INDEX_FINGER_PIP 7. INDEX_FINGER_DIP 8. INDEX_FINGER_TIP 9. MIDDLE_FINGER_MCP 10. MIDDLE_FINGER_PIP 11. MIDDLE_FINGER_DIP 12. MIDDLE_FINGER_TIP 13. RING_FINGER_MCP 14. RING_FINGER_PIP 15. RING_FINGER_DIP 16. RING_FINGER_TIP 17. PINKY_MCP 18. PINKY_PIP 19. PINKY_DIP 20. PINKY_TIP\n",
    "\n",
    "\n"
   ]
  },
  {
   "cell_type": "markdown",
   "id": "a93d769b",
   "metadata": {},
   "source": [
    "# Hand tracking And face tracking Code\n"
   ]
  },
  {
   "cell_type": "code",
   "execution_count": 12,
   "id": "276a7b8f",
   "metadata": {},
   "outputs": [],
   "source": [
    "import cv2 \n",
    "import mediapipe as mp\n",
    "import time\n",
    "\n",
    "\n",
    "# Grabbing the holistic model from mediapipe and initializing the model\n",
    "mp_holistic = mp.solutions.holistic\n",
    "holistic_model = mp_holistic.Holistic(min_detection_confidence = 0.5, min_tracking_confidence = 0.5)\n",
    "\n",
    "# initializing the drawing utils for drawing the facial landmarks on image\n",
    "mp_drawing = mp.solutions.drawing_utils\n",
    "\n",
    "cap = cv2.VideoCapture(0)\n",
    "\n",
    "previousTime = 0\n",
    "currentTime = 0\n",
    "\n",
    "while cap.isOpened():\n",
    "    #capture frame by frame\n",
    "    ret, frame = cap.read()\n",
    "    \n",
    "    frame = cv2.resize(frame,(900,600))\n",
    "    \n",
    "    #converting BGR to RGB\n",
    "    image = cv2.cvtColor(frame, cv2.COLOR_BGR2RGB)\n",
    "    \n",
    "    # making the predictions using holistic model to imporve performance,optionally mark the image as non writable to pass by reference\n",
    "    image.flags.writeable = False\n",
    "    results = holistic_model.process(image)\n",
    "    image.flags.writeable = True\n",
    "    \n",
    "    # Converting back the RGB image to BGR\n",
    "    image = cv2.cvtColor(image,cv2.COLOR_RGB2BGR)\n",
    "    \n",
    "    # drawing the Facial landmarks\n",
    "    mp_drawing.draw_landmarks(image, results.face_landmarks, mp_holistic.FACEMESH_CONTOURS, mp_drawing.DrawingSpec(color = (255,0,255),thickness = 1, circle_radius = 1), mp_drawing.DrawingSpec(color = (0,255,255), thickness = 1, circle_radius = 1))\n",
    "    \n",
    "    # Drawing Right hand land marks\n",
    "    mp_drawing.draw_landmarks(image, results.right_hand_landmarks,mp_holistic.HAND_CONNECTIONS)\n",
    "    \n",
    "    # Drawing left hand land marks\n",
    "    mp_drawing.draw_landmarks(image,results.left_hand_landmarks, mp_holistic.HAND_CONNECTIONS)\n",
    "    \n",
    "    # Calculating the FPS\n",
    "    currentTime = time.time()\n",
    "    fps = 1/(currentTime-previousTime)\n",
    "    previousTime = currentTime\n",
    "    \n",
    "    # Displaying FPS on the image\n",
    "    cv2.putText(image, str(int(fps))+\"FPS\", (10,70), cv2.FONT_HERSHEY_COMPLEX, 1, (0,255,0), 2)\n",
    "    \n",
    "    # Display the resulting image\n",
    "    cv2.imshow(\"Facial and Hand landmarks\", image)\n",
    "    \n",
    "    # Enter key 'q' to break the loop\n",
    "    if cv2.waitKey(5) & 0xFF == ord('q'):\n",
    "        break\n",
    "        \n",
    "cap.release()\n",
    "cv2.destroyAllWindows()"
   ]
  },
  {
   "cell_type": "markdown",
   "id": "61e545b8",
   "metadata": {},
   "source": []
  },
  {
   "cell_type": "code",
   "execution_count": 11,
   "id": "312a2584",
   "metadata": {},
   "outputs": [],
   "source": []
  },
  {
   "cell_type": "code",
   "execution_count": null,
   "id": "8dfb1f0f",
   "metadata": {},
   "outputs": [],
   "source": []
  }
 ],
 "metadata": {
  "kernelspec": {
   "display_name": "Python 3 (ipykernel)",
   "language": "python",
   "name": "python3"
  },
  "language_info": {
   "codemirror_mode": {
    "name": "ipython",
    "version": 3
   },
   "file_extension": ".py",
   "mimetype": "text/x-python",
   "name": "python",
   "nbconvert_exporter": "python",
   "pygments_lexer": "ipython3",
   "version": "3.9.13"
  }
 },
 "nbformat": 4,
 "nbformat_minor": 5
}
